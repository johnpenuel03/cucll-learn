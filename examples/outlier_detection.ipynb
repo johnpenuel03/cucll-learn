{
 "cells": [
  {
   "cell_type": "code",
   "execution_count": null,
   "id": "61ea955d",
   "metadata": {
    "vscode": {
     "languageId": "plaintext"
    }
   },
   "outputs": [],
   "source": [
    "# %% [markdown]\n",
    "# # Advanced Outlier Handling\n",
    "\n",
    "# %%\n",
    "import pandas as pd\n",
    "import seaborn as sns\n",
    "from cucll.learn import handle_outliers\n",
    "\n",
    "# Load data with outliers\n",
    "df = sns.load_dataset(\"mpg\")\n",
    "\n",
    "# %% [markdown]\n",
    "# ## 1. Detect with Z-Score\n",
    "# %%\n",
    "z_df, z_outliers = handle_outliers(df, method=\"report\", threshold=2.5)\n",
    "print(f\"{z_outliers} outliers found via Z-score\")\n",
    "\n",
    "# %% [markdown]\n",
    "# ## 2. Compare IQR Method\n",
    "# %%\n",
    "iqr_df, iqr_outliers = handle_outliers(df, method=\"report\", threshold=1.5, use_iqr=True)\n",
    "print(f\"{iqr_outliers} outliers found via IQR\")\n",
    "\n",
    "# %% [markdown]\n",
    "# ## 3. Visualization\n",
    "# %%\n",
    "sns.boxplot(data=df[[\"mpg\", \"horsepower\"]])"
   ]
  }
 ],
 "metadata": {
  "language_info": {
   "name": "python"
  }
 },
 "nbformat": 4,
 "nbformat_minor": 5
}
