{
 "cells": [
  {
   "cell_type": "code",
   "execution_count": null,
   "id": "e1649a81",
   "metadata": {
    "vscode": {
     "languageId": "plaintext"
    }
   },
   "outputs": [],
   "source": [
    "# %% [markdown]\n",
    "# # Basic Data Cleaning with CUCLL.LEARN\n",
    "\n",
    "# %%\n",
    "from cucll.learn import handle_duplicates, handle_missing, handle_outliers\n",
    "import pandas as pd\n",
    "\n",
    "# Load messy data\n",
    "df = pd.DataFrame({\n",
    "    \"Age\": [25, 25, 999, None, 30],\n",
    "    \"Income\": [50000, 50000, 10_000_000, 75000, None],\n",
    "    \"Department\": [\"HR\", \"HR\", \"IT\", None, \"IT\"]\n",
    "})\n",
    "\n",
    "# %% [markdown]\n",
    "# ## Step 1: Remove Duplicates\n",
    "# %%\n",
    "df, dup_count = handle_duplicates(df, keep=\"first\")\n",
    "print(f\"Removed {dup_count} duplicates\")\n",
    "\n",
    "# %% [markdown]\n",
    "# ## Step 2: Fix Outliers\n",
    "# %%\n",
    "df, outlier_count = handle_outliers(df, method=\"clip\", threshold=3.0)\n",
    "print(f\"Clipped {outlier_count} outliers\")\n",
    "\n",
    "# %% [markdown]\n",
    "# ## Step 3: Handle Missing Values\n",
    "# %%\n",
    "df, missing_count = handle_missing(df, num_method=\"median\", cat_method=\"mode\")\n",
    "print(f\"Filled {missing_count} missing values\")\n",
    "\n",
    "# %%\n",
    "df  # Display cleaned data"
   ]
  }
 ],
 "metadata": {
  "language_info": {
   "name": "python"
  }
 },
 "nbformat": 4,
 "nbformat_minor": 5
}
