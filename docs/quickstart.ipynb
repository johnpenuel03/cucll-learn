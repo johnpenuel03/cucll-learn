{
 "cells": [
  {
   "cell_type": "code",
   "execution_count": null,
   "id": "2fa476f4",
   "metadata": {
    "vscode": {
     "languageId": "plaintext"
    }
   },
   "outputs": [],
   "source": [
    "# %% [markdown]\n",
    "# # CUCLL.LEARN Quickstart\n",
    "# One-shot data exploration and cleaning"
   ]
  },
  {
   "cell_type": "code",
   "execution_count": null,
   "id": "7706d7c6",
   "metadata": {
    "vscode": {
     "languageId": "plaintext"
    }
   },
   "outputs": [],
   "source": [
    "# %%\n",
    "import pandas as pd\n",
    "\n",
    "# Load sample data\n",
    "df = pd.read_csv(\"https://raw.githubusercontent.com/mwaskom/seaborn-data/master/titanic.csv\")"
   ]
  },
  {
   "cell_type": "code",
   "execution_count": null,
   "id": "43eda070",
   "metadata": {
    "vscode": {
     "languageId": "plaintext"
    }
   },
   "outputs": [],
   "source": [
    "from cucll.learn import explore_data, clean_data\n",
    "\n",
    "\n",
    "# %% [markdown]\n",
    "# ## 1. Smart Exploration\n",
    "# %%\n",
    "explore_data(df, show_hg=True, show_bp=True)\n",
    "\n",
    "# %% [markdown]\n",
    "# ## 2. Auto-Cleaning Pipeline\n",
    "# %%\n",
    "cleaned_df = clean_data(df,\n",
    "                       outlier_params={\"method\": \"clip\"},\n",
    "                       missing_params={\"cat_method\": \"mode\"})\n",
    "\n",
    "# %% [markdown]\n",
    "# ## 3. Verify Results\n",
    "# %%\n",
    "explore_data(cleaned_df)"
   ]
  }
 ],
 "metadata": {
  "language_info": {
   "name": "python"
  }
 },
 "nbformat": 4,
 "nbformat_minor": 5
}
